{
 "cells": [
  {
   "cell_type": "markdown",
   "metadata": {},
   "source": [
    "##  Startvorteil\n",
    "In folgendem Abschnitt werden die Startpositionen der KIs analysiert.\n",
    "Da das generierte Spielbrett zufällig und nicht ausgeglichen erstellt wird kann hiermit festgestellt werden welche KI daraus Vorteile erlangt.\n",
    "\n",
    "Während des Spielens von 100 Spielen, also 200 KIs wurden die Daten protokolliert.\n",
    "Beide KIs spielen mit den selben Parametern.\n",
    "Es ist klar zu sehen das die Startposition <437,5,200> der <3468,5,985> vorzuziehen ist, da von dieser 81 von 100 Spielen gewonnen wurden."
   ]
  },
  {
   "cell_type": "code",
   "execution_count": 67,
   "metadata": {},
   "outputs": [
    {
     "data": {
      "image/png": "[encoded data removed]",
      "text/plain": [
       "<Figure size 432x288 with 1 Axes>"
      ]
     },
     "metadata": {
      "needs_background": "light"
     },
     "output_type": "display_data"
    }
   ],
   "source": [
    "import pandas as pd\n",
    "import matplotlib\n",
    "import matplotlib.pyplot as plt\n",
    "import numpy as np\n",
    "\n",
    "df1 = pd.read_csv('Data/STATIC.csv', index_col=[0], sep=';')\n",
    "df2 = pd.read_csv('Data/REF.csv', index_col=[0], sep=';')\n",
    "frames = [df1, df2]\n",
    "\n",
    "result = pd.concat(frames)\n",
    "winSum = result.groupby('Coord')['Winner'].value_counts()\n",
    "won = winSum.take([0, 3])\n",
    "los = winSum.take([1, 2])\n",
    "\n",
    "labels = result.Coord.unique() # labels of x-axis\n",
    "width = 0.40  # bar width\n",
    "\n",
    "fig, ax = plt.subplots() # merge two plots\n",
    "ax.bar(x - width/2, won, width, label='Winner')\n",
    "ax.bar(x + width/2, los, width, label='Loser')\n",
    "ax.set_ylabel('Games')\n",
    "ax.set_title('Game result by start coordinate')\n",
    "ax.set_xticks(np.arange(len(labels)))\n",
    "ax.set_xticklabels(labels)\n",
    "ax.legend()\n",
    "\n",
    "plt.show()"
   ]
  },
  {
   "cell_type": "code",
   "execution_count": null,
   "metadata": {},
   "outputs": [],
   "source": []
  }
 ],
 "metadata": {
  "kernelspec": {
   "display_name": "Python 3",
   "language": "python",
   "name": "python3"
  },
  "language_info": {
   "codemirror_mode": {
    "name": "ipython",
    "version": 3
   },
   "file_extension": ".py",
   "mimetype": "text/x-python",
   "name": "python",
   "nbconvert_exporter": "python",
   "pygments_lexer": "ipython3",
   "version": "3.9.0"
  }
 },
 "nbformat": 4,
 "nbformat_minor": 4
}
